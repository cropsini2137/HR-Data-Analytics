{
 "cells": [
  {
   "cell_type": "markdown",
   "metadata": {},
   "source": [
    "# Data preprocessing, EDA and visualization 📊🧮\n",
    "\n",
    "This notebook includes a series of steps to load, clean, and analyze a dataset. We will:\n",
    "\n",
    "1. Loading the survey data.\n",
    "   \n",
    "2. Analyzing missing values.\n",
    "   \n",
    "3. Handling missing values.\n",
    "   \n",
    "4. Performing exploratory data analysis (EDA).\n",
    "   \n",
    "5. Visualizing the most interesting findings.\n",
    "   \n",
    "6. Providing selection based on rows and/or columns (if needed)"
   ]
  },
  {
   "cell_type": "markdown",
   "metadata": {},
   "source": [
    "### Loading the survey data 📥\n",
    "\n",
    "First, we'll load the data from the CSV file into a pandas DataFrame and display the first few rows to understand the structure of the dataset.\n",
    "\n",
    "- We load the CSV file into pandas DataFrame using `pd.read_csv(file_path)`.\n",
    "  \n",
    "- We use `head()` to display the first few rows of the data."
   ]
  },
  {
   "cell_type": "code",
   "execution_count": 6,
   "metadata": {},
   "outputs": [
    {
     "name": "stdout",
     "output_type": "stream",
     "text": [
      "Initial data:\n",
      "   ID  Godzina rozpoczęcia   Godzina ukończenia Adres e-mail  Nazwa  \\\n",
      "0   1  2024-03-05 15:25:52  2024-03-05 15:33:04    anonymous    NaN   \n",
      "1   2  2024-03-05 15:29:46  2024-03-05 15:35:02    anonymous    NaN   \n",
      "2   3  2024-03-05 15:16:30  2024-03-05 15:37:17    anonymous    NaN   \n",
      "\n",
      "   Czas ostatniej modyfikacji  \\\n",
      "0                         NaN   \n",
      "1                         NaN   \n",
      "2                         NaN   \n",
      "\n",
      "  Masz jakiś pomysł na projekt data? Napisz nam o tym. Jeżeli to nie ten moment, pozostaw puste pole.  \\\n",
      "0  Projekt \"data\" będący mobilną stacją benzynową...                                                    \n",
      "1                                                NaN                                                    \n",
      "2                                                NaN                                                    \n",
      "\n",
      "      W jaki sposób chcesz uczestniczyć w Community?  Programming: R  \\\n",
      "0  Chcę uczestniczyć w projekcie data i organizow...             2.0   \n",
      "1                 Chcę uczestniczyć w projekcie data             3.0   \n",
      "2                 Chcę uczestniczyć w projekcie data             0.0   \n",
      "\n",
      "   Programming: Python  ...  FinTech  HealthTech  FashionTech  E-commerce  \\\n",
      "0                  3.0  ...      3.0         2.0          3.0         3.0   \n",
      "1                  3.0  ...      2.0         2.0          2.0         2.0   \n",
      "2                  1.0  ...      3.0         0.0          0.0         2.0   \n",
      "\n",
      "   SportTech  Non-profit  PropTech (nieruchomości)  Cybersecurity   HR  \\\n",
      "0        3.0         2.0                       3.0            2.0  2.0   \n",
      "1        2.0         2.0                       2.0            2.0  2.0   \n",
      "2        0.0         1.0                       2.0            0.0  0.0   \n",
      "\n",
      "   Jeżeli pominięto branżę, na której się znasz dopisz ją:  \n",
      "0                                                NaN        \n",
      "1                                                NaN        \n",
      "2                                                NaN        \n",
      "\n",
      "[3 rows x 45 columns]\n"
     ]
    }
   ],
   "source": [
    "import pandas as pd\n",
    "\n",
    "# Path to the file\n",
    "file_path = r'D:\\Users\\Desktop\\ProjektAnalitiks\\data\\01_Raw\\01_DataCompetencySurvey.csv'\n",
    "\n",
    "# Loading the data\n",
    "data = pd.read_csv(file_path)\n",
    "\n",
    "# Displaying the first three rows\n",
    "print(\"Initial data:\")\n",
    "print(data.head(3))"
   ]
  },
  {
   "cell_type": "markdown",
   "metadata": {},
   "source": [
    "---"
   ]
  },
  {
   "cell_type": "markdown",
   "metadata": {},
   "source": [
    "### Analyzing missing values 🔎\n",
    "\n",
    "Next, we'll check which columns have missing values and how many missing values there are. This step helps us understand the completeness of the data and plan for handling any missing values.\n",
    "\n",
    "This step is crucial for understanding the quality of the dataset and planning how to handle any gaps in the data. We will explore the following:\n",
    "\n",
    "- Simple overview of missing values to identify which columns have missing values and how many missing values there are in each column,\n",
    "  \n",
    "- Percentage of missing values for each column to get a better sense of the data quality,\n",
    "\n",
    "- Visualizing missing data to get a more intuitive understanding of where the missing values are located."
   ]
  },
  {
   "cell_type": "code",
   "execution_count": 8,
   "metadata": {},
   "outputs": [
    {
     "name": "stdout",
     "output_type": "stream",
     "text": [
      "\n",
      "Data info:\n",
      "<class 'pandas.core.frame.DataFrame'>\n",
      "RangeIndex: 67 entries, 0 to 66\n",
      "Data columns (total 45 columns):\n",
      " #   Column                                                                                               Non-Null Count  Dtype  \n",
      "---  ------                                                                                               --------------  -----  \n",
      " 0   ID                                                                                                   67 non-null     int64  \n",
      " 1   Godzina rozpoczęcia                                                                                  67 non-null     object \n",
      " 2   Godzina ukończenia                                                                                   67 non-null     object \n",
      " 3   Adres e-mail                                                                                         67 non-null     object \n",
      " 4   Nazwa                                                                                                0 non-null      float64\n",
      " 5   Czas ostatniej modyfikacji                                                                           0 non-null      float64\n",
      " 6   Masz jakiś pomysł na projekt data? Napisz nam o tym. Jeżeli to nie ten moment, pozostaw puste pole.  19 non-null     object \n",
      " 7   W jaki sposób chcesz uczestniczyć w Community?                                                       67 non-null     object \n",
      " 8   Programming: R                                                                                       59 non-null     float64\n",
      " 9   Programming: Python                                                                                  59 non-null     float64\n",
      " 10  Programming: Bash                                                                                    59 non-null     float64\n",
      " 11  Version Control: GIT                                                                                 59 non-null     float64\n",
      " 12  Containers: Docker                                                                                   59 non-null     float64\n",
      " 13  CLI: (np. Bash, PowerShell, CMD)                                                                     59 non-null     float64\n",
      " 14  Front End: (HTML, JavaScript, CSS)                                                                   59 non-null     float64\n",
      " 15  Databases: SQL                                                                                       59 non-null     float64\n",
      " 16  Databases: NoSQL                                                                                     59 non-null     float64\n",
      " 17  Cloud: Azure                                                                                         59 non-null     float64\n",
      " 18  Cloud: AWS                                                                                           59 non-null     float64\n",
      " 19  Cloud: GPC                                                                                           59 non-null     float64\n",
      " 20  BI: PowerBI                                                                                          59 non-null     float64\n",
      " 21  BI: Tableau                                                                                          59 non-null     float64\n",
      " 22  Area: Time Series                                                                                    59 non-null     float64\n",
      " 23  Area: Classical ML (Clustering, Regression, Classification)                                          59 non-null     float64\n",
      " 24  Area: NLP                                                                                            59 non-null     float64\n",
      " 25  Area: Computer Vision                                                                                59 non-null     float64\n",
      " 26  Project Management                                                                                   60 non-null     float64\n",
      " 27  Promocja w Social Media                                                                              60 non-null     float64\n",
      " 28  Ux/Ui                                                                                                60 non-null     float64\n",
      " 29  Projektowanie graficzne                                                                              60 non-null     float64\n",
      " 30  Nawiązywanie Relacji z Biznesem                                                                      60 non-null     float64\n",
      " 31  Nawiązywanie Relacji z naukowcami                                                                    60 non-null     float64\n",
      " 32  Pozyskiwanie finansowania                                                                            60 non-null     float64\n",
      " 33  Współpraca z administracją UEW                                                                       60 non-null     float64\n",
      " 34  Jeżeli jest obszar, na którym się znasz i chcesz go wykorzystać, dopisz go:                          13 non-null     object \n",
      " 35  FinTech                                                                                              60 non-null     float64\n",
      " 36  HealthTech                                                                                           60 non-null     float64\n",
      " 37  FashionTech                                                                                          60 non-null     float64\n",
      " 38  E-commerce                                                                                           60 non-null     float64\n",
      " 39  SportTech                                                                                            60 non-null     float64\n",
      " 40  Non-profit                                                                                           60 non-null     float64\n",
      " 41  PropTech (nieruchomości)                                                                             60 non-null     float64\n",
      " 42  Cybersecurity                                                                                        60 non-null     float64\n",
      " 43  HR                                                                                                   60 non-null     float64\n",
      " 44  Jeżeli pominięto branżę, na której się znasz dopisz ją:                                              10 non-null     object \n",
      "dtypes: float64(37), int64(1), object(7)\n",
      "memory usage: 23.7+ KB\n",
      "None\n",
      "\n",
      "Missing values:\n",
      "Nazwa                                                                                                  67\n",
      "Czas ostatniej modyfikacji                                                                             67\n",
      "Masz jakiś pomysł na projekt data? Napisz nam o tym. Jeżeli to nie ten moment, pozostaw puste pole.    48\n",
      "Programming: R                                                                                          8\n",
      "Programming: Python                                                                                     8\n",
      "Programming: Bash                                                                                       8\n",
      "Version Control: GIT                                                                                    8\n",
      "Containers: Docker                                                                                      8\n",
      "CLI: (np. Bash, PowerShell, CMD)                                                                        8\n",
      "Front End: (HTML, JavaScript, CSS)                                                                      8\n",
      "Databases: SQL                                                                                          8\n",
      "Databases: NoSQL                                                                                        8\n",
      "Cloud: Azure                                                                                            8\n",
      "Cloud: AWS                                                                                              8\n",
      "Cloud: GPC                                                                                              8\n",
      "BI: PowerBI                                                                                             8\n",
      "BI: Tableau                                                                                             8\n",
      "Area: Time Series                                                                                       8\n",
      "Area: Classical ML (Clustering, Regression, Classification)                                             8\n",
      "Area: NLP                                                                                               8\n",
      "Area: Computer Vision                                                                                   8\n",
      "Project Management                                                                                      7\n",
      "Promocja w Social Media                                                                                 7\n",
      "Ux/Ui                                                                                                   7\n",
      "Projektowanie graficzne                                                                                 7\n",
      "Nawiązywanie Relacji z Biznesem                                                                         7\n",
      "Nawiązywanie Relacji z naukowcami                                                                       7\n",
      "Pozyskiwanie finansowania                                                                               7\n",
      "Współpraca z administracją UEW                                                                          7\n",
      "Jeżeli jest obszar, na którym się znasz i chcesz go wykorzystać, dopisz go:                            54\n",
      "FinTech                                                                                                 7\n",
      "HealthTech                                                                                              7\n",
      "FashionTech                                                                                             7\n",
      "E-commerce                                                                                              7\n",
      "SportTech                                                                                               7\n",
      "Non-profit                                                                                              7\n",
      "PropTech (nieruchomości)                                                                                7\n",
      "Cybersecurity                                                                                           7\n",
      "HR                                                                                                      7\n",
      "Jeżeli pominięto branżę, na której się znasz dopisz ją:                                                57\n",
      "dtype: int64\n"
     ]
    }
   ],
   "source": [
    "# Information about the data\n",
    "print(\"\\nData info:\")\n",
    "print(data.info())\n",
    "\n",
    "# Checking for missing values\n",
    "missing_values = data.isnull().sum()\n",
    "print(\"\\nMissing values:\")\n",
    "print(missing_values[missing_values > 0])"
   ]
  },
  {
   "cell_type": "markdown",
   "metadata": {},
   "source": [
    "- `data.info()` - provides a concise summary of the DataFrame, including the number of non-null values in each column.\n",
    "\n",
    "- `data.isnull().sum()` - counts the number of missing values in each column."
   ]
  },
  {
   "cell_type": "markdown",
   "metadata": {},
   "source": [
    "### Percentage of missing values °/•\n",
    "\n",
    "To understand the extent of missing values, we calculate their percentage for each column."
   ]
  },
  {
   "cell_type": "code",
   "execution_count": 7,
   "metadata": {},
   "outputs": [
    {
     "name": "stdout",
     "output_type": "stream",
     "text": [
      "\n",
      "Percentage of missing values:\n",
      "Nazwa                                                                                                  100.000000\n",
      "Czas ostatniej modyfikacji                                                                             100.000000\n",
      "Masz jakiś pomysł na projekt data? Napisz nam o tym. Jeżeli to nie ten moment, pozostaw puste pole.     71.641791\n",
      "Programming: R                                                                                          11.940299\n",
      "Programming: Python                                                                                     11.940299\n",
      "Programming: Bash                                                                                       11.940299\n",
      "Version Control: GIT                                                                                    11.940299\n",
      "Containers: Docker                                                                                      11.940299\n",
      "CLI: (np. Bash, PowerShell, CMD)                                                                        11.940299\n",
      "Front End: (HTML, JavaScript, CSS)                                                                      11.940299\n",
      "Databases: SQL                                                                                          11.940299\n",
      "Databases: NoSQL                                                                                        11.940299\n",
      "Cloud: Azure                                                                                            11.940299\n",
      "Cloud: AWS                                                                                              11.940299\n",
      "Cloud: GPC                                                                                              11.940299\n",
      "BI: PowerBI                                                                                             11.940299\n",
      "BI: Tableau                                                                                             11.940299\n",
      "Area: Time Series                                                                                       11.940299\n",
      "Area: Classical ML (Clustering, Regression, Classification)                                             11.940299\n",
      "Area: NLP                                                                                               11.940299\n",
      "Area: Computer Vision                                                                                   11.940299\n",
      "Project Management                                                                                      10.447761\n",
      "Promocja w Social Media                                                                                 10.447761\n",
      "Ux/Ui                                                                                                   10.447761\n",
      "Projektowanie graficzne                                                                                 10.447761\n",
      "Nawiązywanie Relacji z Biznesem                                                                         10.447761\n",
      "Nawiązywanie Relacji z naukowcami                                                                       10.447761\n",
      "Pozyskiwanie finansowania                                                                               10.447761\n",
      "Współpraca z administracją UEW                                                                          10.447761\n",
      "Jeżeli jest obszar, na którym się znasz i chcesz go wykorzystać, dopisz go:                             80.597015\n",
      "FinTech                                                                                                 10.447761\n",
      "HealthTech                                                                                              10.447761\n",
      "FashionTech                                                                                             10.447761\n",
      "E-commerce                                                                                              10.447761\n",
      "SportTech                                                                                               10.447761\n",
      "Non-profit                                                                                              10.447761\n",
      "PropTech (nieruchomości)                                                                                10.447761\n",
      "Cybersecurity                                                                                           10.447761\n",
      "HR                                                                                                      10.447761\n",
      "Jeżeli pominięto branżę, na której się znasz dopisz ją:                                                 85.074627\n",
      "dtype: float64\n"
     ]
    }
   ],
   "source": [
    "missing_percentage = (missing_values / len(data)) *100\n",
    "print(\"\\nPercentage of missing values:\")\n",
    "print(missing_percentage[missing_percentage > 0])"
   ]
  },
  {
   "cell_type": "markdown",
   "metadata": {},
   "source": [
    "- `missing_values / len(data)` - divides the number of missing values by the total number of rows to get the proportion of missing values.\n",
    "\n",
    "- `*100` - converts the proportion to a percentage"
   ]
  },
  {
   "cell_type": "markdown",
   "metadata": {},
   "source": [
    "### Visualizing missing data\n",
    "\n",
    "Visualizations can help us quickly understand the distribution of missing values in the dataset. We will use a heatmap to visualize missing data."
   ]
  },
  {
   "cell_type": "code",
   "execution_count": null,
   "metadata": {},
   "outputs": [],
   "source": [
    "import matplotlib.pyplot as plt\n",
    "import seaborn as sns\n",
    "\n",
    "# Visualizing missing values using a heatmap\n",
    "plt.figure(figsize=(12, 8))\n",
    "sns.heatmap(data.isnull(), cbar=False, cmap='viridis', yticklabels=False)\n",
    "plt.title('Missing values heatmap')\n",
    "plt.show()"
   ]
  },
  {
   "cell_type": "markdown",
   "metadata": {},
   "source": [
    "### Seaborn formula expaination:\n",
    "\n",
    "`data.isnull()` - creates a DataFrame of the same shape as data with True for missing values and False for non-missing values.\n",
    "\n",
    "`cbar=False` - hides the color bar to keep the plot clean.\n",
    "\n",
    "`cmap='viridis'` - sets the color map to 'viridis', which is visually appealing and helps distinguish between missing and non-missing values.\n",
    "\n",
    "`yticklabels=False` - hides the y-axis labels to reduce clutter."
   ]
  },
  {
   "cell_type": "markdown",
   "metadata": {},
   "source": [
    "After analyzing the missing values in the dataset, we can draw several important conclusions that will guide our data cleaning and preprocessing steps. Summarizing of our findings and the corresponding conclusions:\n",
    "\n",
    "- Using `data.info()`, we observed that some columns have missing values, which are represented as NaN in the DataFrame.\n",
    "The *missing_values* series indicates which columns have missing values and how many there are in each column.\n",
    "\n",
    "- By calculating the percentage of missing values for each column, we can assess the extent of the missing data.\n",
    "\n",
    "If a column has a very high percentage of missing values, it might be considered for removal, as it may not provide much useful information.\n",
    "Conversely, columns with low percentages of missing values might be good candidates for imputation, where we fill in the missing values with appropriate substitutes (e.g., mean, median, mode).\n",
    "\n",
    "- The heatmap provides a visual representation of the missing data, showing us the distribution of missing values across the dataset.\n",
    "This visual aid helps us quickly identify any patterns in the missing data, such as whether the missing values are randomly distributed or if there are entire rows or columns with missing data.\n",
    "\n",
    "Based on the analysis of missing values, we can conclude the following:\n",
    "\n",
    "- Columns with a high percentage of missing values may need to be removed if they do not contribute significantly to the analysis.\n",
    "- Columns with a low percentage of missing values can be imputed with the mean, median, or mode, depending on the nature of the data.\n",
    "- If the missing values are randomly distributed, simple imputation methods may suffice.\n",
    "- If there are patterns (e.g., missing values clustered in specific rows or columns), we may need to investigate further to understand the reasons behind the missing data and choose appropriate handling methods.\n",
    "\n",
    "---"
   ]
  },
  {
   "cell_type": "markdown",
   "metadata": {},
   "source": [
    "### Handling missing values\n",
    "\n",
    "### Removing columns with high percentage of missing values\n",
    "\n",
    "If any column has more than a specified threshold (e.g., 50%) of missing values, we might consider removing it."
   ]
  },
  {
   "cell_type": "code",
   "execution_count": null,
   "metadata": {},
   "outputs": [],
   "source": [
    "# Defining a threshold for removing columns with too many missing values\n",
    "threshold = 50\n",
    "\n",
    "# Removing columns with missing values exceeding the threshold\n",
    "data_cleaned = data_filled.loc[:, (missing_percentage < threshold)]\n",
    "print(\"\\nColumns after Removing High Percentage Missing Values:\")\n",
    "print(data_cleaned.columns)\n"
   ]
  }
 ],
 "metadata": {
  "kernelspec": {
   "display_name": "Python 3",
   "language": "python",
   "name": "python3"
  },
  "language_info": {
   "codemirror_mode": {
    "name": "ipython",
    "version": 3
   },
   "file_extension": ".py",
   "mimetype": "text/x-python",
   "name": "python",
   "nbconvert_exporter": "python",
   "pygments_lexer": "ipython3",
   "version": "3.12.3"
  }
 },
 "nbformat": 4,
 "nbformat_minor": 2
}
