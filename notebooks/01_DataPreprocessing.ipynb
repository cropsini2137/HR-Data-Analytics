{
 "cells": [
  {
   "cell_type": "code",
   "execution_count": 10,
   "metadata": {},
   "outputs": [],
   "source": [
    "import pandas as pd"
   ]
  },
  {
   "cell_type": "code",
   "execution_count": 11,
   "metadata": {},
   "outputs": [],
   "source": [
    "url = 'https://dl.dropboxusercontent.com/scl/fi/5dqrzotvi0ght1kvg4ka0/DataCompetencySurvey.xlsx?rlkey=kwm7bm6qktcsr3xzskk93kl05&st=frirrudh&dl=1'\n",
    "\n",
    "raw_data = pd.read_excel(url)\n",
    "raw_data.to_csv('../data/01_Raw/01_DataCompetencySurvey.csv', index=False)"
   ]
  },
  {
   "cell_type": "code",
   "execution_count": 12,
   "metadata": {},
   "outputs": [],
   "source": [
    "# Drop timestamp column, beacuse it is not needed\n",
    "\n",
    "cols_to_drop = [\"Godzina rozpoczęcia\", \"Godzina ukończenia\"]\n",
    "\n",
    "preprocessed_data = raw_data.drop(cols_to_drop, axis=1)\n",
    "preprocessed_data.to_csv('../data/02_Interim/01_SelectedFeutures.csv', index=False)"
   ]
  }
 ],
 "metadata": {
  "kernelspec": {
   "display_name": "data-profiling",
   "language": "python",
   "name": "python3"
  },
  "language_info": {
   "codemirror_mode": {
    "name": "ipython",
    "version": 3
   },
   "file_extension": ".py",
   "mimetype": "text/x-python",
   "name": "python",
   "nbconvert_exporter": "python",
   "pygments_lexer": "ipython3",
   "version": "3.11.9"
  }
 },
 "nbformat": 4,
 "nbformat_minor": 2
}
